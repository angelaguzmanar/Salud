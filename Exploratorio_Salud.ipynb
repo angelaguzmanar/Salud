{
  "nbformat": 4,
  "nbformat_minor": 0,
  "metadata": {
    "colab": {
      "provenance": [],
      "authorship_tag": "ABX9TyO5NRu54vTwCWApmMWRr2Nz",
      "include_colab_link": true
    },
    "kernelspec": {
      "name": "python3",
      "display_name": "Python 3"
    },
    "language_info": {
      "name": "python"
    }
  },
  "cells": [
    {
      "cell_type": "markdown",
      "metadata": {
        "id": "view-in-github",
        "colab_type": "text"
      },
      "source": [
        "<a href=\"https://colab.research.google.com/github/angelaguzmanar/Salud/blob/main/Exploratorio_Salud.ipynb\" target=\"_parent\"><img src=\"https://colab.research.google.com/assets/colab-badge.svg\" alt=\"Open In Colab\"/></a>"
      ]
    },
    {
      "cell_type": "code",
      "source": [
        "import pandas as pd ### para manejo de datos\n",
        "import sys\n",
        "import numpy as np\n",
        "import sqlite3 as sql"
      ],
      "metadata": {
        "id": "MSB1o0zYrxy8"
      },
      "execution_count": 2,
      "outputs": []
    },
    {
      "cell_type": "code",
      "source": [
        "  #conectamos con Google Drive\n",
        "from google.colab import drive\n",
        "drive.mount('/content/drive')"
      ],
      "metadata": {
        "colab": {
          "base_uri": "https://localhost:8080/"
        },
        "id": "SWiu6tbxrtjY",
        "outputId": "6a3cdcc8-eafc-4ee7-fc4a-28db47ee0b9b"
      },
      "execution_count": 1,
      "outputs": [
        {
          "output_type": "stream",
          "name": "stdout",
          "text": [
            "Mounted at /content/drive\n"
          ]
        }
      ]
    },
    {
      "cell_type": "code",
      "execution_count": 4,
      "metadata": {
        "colab": {
          "base_uri": "https://localhost:8080/"
        },
        "id": "AFugQB0GrssA",
        "outputId": "5f0af9c6-d977-4333-b985-299aa7147b00"
      },
      "outputs": [
        {
          "output_type": "execute_result",
          "data": {
            "text/plain": [
              "[]"
            ]
          },
          "metadata": {},
          "execution_count": 4
        }
      ],
      "source": [
        "#conectarse a BD\n",
        "conn= sql.connect('/content/drive/MyDrive/Analitica3/Entrega_Marketing/db_salud')\n",
        "cur=conn.cursor()\n",
        "\n",
        "#ver las tablas que hay en la base de datos\n",
        "cur.execute(\"select name from sqlite_master where type='table' \")\n",
        "cur.fetchall()"
      ]
    },
    {
      "cell_type": "code",
      "source": [],
      "metadata": {
        "id": "TRQG6cYJr4gg"
      },
      "execution_count": null,
      "outputs": []
    }
  ]
}